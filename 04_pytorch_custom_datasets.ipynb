{
  "nbformat": 4,
  "nbformat_minor": 0,
  "metadata": {
    "colab": {
      "provenance": [],
      "gpuType": "T4",
      "authorship_tag": "ABX9TyOpViWq6nlH6Yo020pnvt6E",
      "include_colab_link": true
    },
    "kernelspec": {
      "name": "python3",
      "display_name": "Python 3"
    },
    "language_info": {
      "name": "python"
    },
    "accelerator": "GPU"
  },
  "cells": [
    {
      "cell_type": "markdown",
      "metadata": {
        "id": "view-in-github",
        "colab_type": "text"
      },
      "source": [
        "<a href=\"https://colab.research.google.com/github/vandana10/deeplearning-using-pytorch/blob/main/04_pytorch_custom_datasets.ipynb\" target=\"_parent\"><img src=\"https://colab.research.google.com/assets/colab-badge.svg\" alt=\"Open In Colab\"/></a>"
      ]
    },
    {
      "cell_type": "markdown",
      "source": [
        "# 04. PyTorch custom datasets\n",
        "\n",
        "We've used some datasets with PyTorch before..\n",
        "But how do you get your own data into PyTorch\n",
        "On way is: Custom datasets\n",
        "\n"
      ],
      "metadata": {
        "id": "fX2JVHUAYhRG"
      }
    },
    {
      "cell_type": "markdown",
      "source": [
        "### 0. Importing PyTorch and setting up device agnoatic code"
      ],
      "metadata": {
        "id": "oO2AruHyY7VW"
      }
    },
    {
      "cell_type": "code",
      "execution_count": 2,
      "metadata": {
        "id": "5jQdcXowRNrd"
      },
      "outputs": [],
      "source": [
        "import torch\n",
        "from torch import nn"
      ]
    },
    {
      "cell_type": "code",
      "source": [
        "device = \"cuda\" if torch.cuda.is_available() else \"cpu\"\n",
        "device"
      ],
      "metadata": {
        "colab": {
          "base_uri": "https://localhost:8080/",
          "height": 36
        },
        "id": "tPVmUgsAZCdr",
        "outputId": "2e431807-2f79-4266-aaf9-2e2ce3854f70"
      },
      "execution_count": 3,
      "outputs": [
        {
          "output_type": "execute_result",
          "data": {
            "text/plain": [
              "'cuda'"
            ],
            "application/vnd.google.colaboratory.intrinsic+json": {
              "type": "string"
            }
          },
          "metadata": {},
          "execution_count": 3
        }
      ]
    },
    {
      "cell_type": "markdown",
      "source": [
        "## 1. Get data\n",
        "\n",
        "Our dataset is a subset of the Food101 dataset\n",
        "\n",
        "Food101 starts 101 diff classes of food.\n",
        "\n",
        "Our dataset starts with 3 classes of food and 10% of images(75 praining and 25 testing)\n",
        "\n",
        "why do this?\n",
        "First small scale and  then increase when its necessary"
      ],
      "metadata": {
        "id": "F5C9GP_9eOLz"
      }
    },
    {
      "cell_type": "code",
      "source": [
        "import requests\n",
        "import zipfile\n",
        "from pathlib import Path\n",
        "\n",
        "data_path = Path(\"data/\")\n",
        "image_path = data_path / \"pizza_steak_sushi\"\n",
        "\n",
        "if image_path.is_dir():\n",
        "  print(f\"{image_path} directory already exists\")\n",
        "else:\n",
        "  print(f\"{image_path} does not exist, creating one..\")\n",
        "  image_path.mkdir(parents=True, exist_ok=True)\n",
        "\n",
        "#Download pizza steak and sushi data\n",
        "with open(data_path/ \"pizza_steak_sushi.zip\", \"wb\") as f:\n",
        "  request = requests.get(\"https://github.com/mrdbourke/pytorch-deep-learning/raw/main/data/pizza_steak_sushi.zip\")\n",
        "  print(f\"Downloading pizza steak and sushi data..\")\n",
        "  f.write(request.content)\n",
        "\n",
        "#Unzip data\n",
        "with zipfile.ZipFile(data_path / \"pizza_steak_sushi.zip\", \"r\") as zip_ref:\n",
        "  print(\"Unzipping data..\")\n",
        "  zip_ref.extractall(image_path)\n",
        "\n",
        "#Remove zip file\n",
        "!rm {data_path / \"pizza_steak_sushi.zip\"}\n"
      ],
      "metadata": {
        "colab": {
          "base_uri": "https://localhost:8080/"
        },
        "id": "SKfXsi2EZIIk",
        "outputId": "e5388969-47e5-4d32-f7fc-00ea206fe82f"
      },
      "execution_count": 6,
      "outputs": [
        {
          "output_type": "stream",
          "name": "stdout",
          "text": [
            "data/pizza_steak_sushi directory already exists\n",
            "Downloading pizza steak and sushi data..\n",
            "Unzipping data..\n"
          ]
        }
      ]
    },
    {
      "cell_type": "markdown",
      "source": [],
      "metadata": {
        "id": "ckXwMYx9fFk6"
      }
    }
  ]
}